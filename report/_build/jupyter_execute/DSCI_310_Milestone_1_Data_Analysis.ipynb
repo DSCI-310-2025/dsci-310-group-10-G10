{
 "cells": [
  {
   "cell_type": "markdown",
   "id": "7c723262-2ab0-4823-8b7f-a14cf885ef67",
   "metadata": {
    "id": "7c723262-2ab0-4823-8b7f-a14cf885ef67"
   },
   "source": [
    "# **Analyzing Key Factors Affecting Airbnb Prices Across Berlin, London, and Paris**"
   ]
  },
  {
   "cell_type": "markdown",
   "id": "ecab3289-ef3b-468d-9844-c4a4c572a841",
   "metadata": {
    "id": "ecab3289-ef3b-468d-9844-c4a4c572a841"
   },
   "source": [
    "## **Summary**\n",
    "\n",
    "This project aims to develop a predictive model to estimate Airbnb listing prices in Berlin, London, and Paris using key property and location-based attributes. The dataset, sourced from a publicly available Airbnb repository, includes variables such as room type, guest ratings, host status, distance to city center, and neighborhood attractiveness scores. To enhance model performance, we apply exploratory data analysis (EDA), correlation analysis, and multiple linear regression to determine the most significant predictors of price. Our findings align with previous research that highlights the influence of location, property characteristics, and host reputation on pricing strategies in the short-term rental market. The evaluation of our model relies on R-squared to measure explanatory power and Root Mean Squared Error (RMSE) to assess prediction accuracy. By identifying key pricing factors, this study provides insights that can guide Airbnb hosts in optimizing their pricing strategies and travelers in making informed booking decisions."
   ]
  },
  {
   "cell_type": "markdown",
   "id": "a9b81ad2-b446-469b-b3e5-282b03a30d67",
   "metadata": {
    "id": "a9b81ad2-b446-469b-b3e5-282b03a30d67"
   },
   "source": [
    "## **Introduction**\n",
    "The rapid expansion of peer-to-peer accommodation platforms like Airbnb has significantly transformed the hospitality industry, enabling homeowners to monetize their properties while offering travelers diverse lodging options. Unlike hotels, Airbnb prices are highly variable, influenced by factors such as property type, host reputation, and location-specific characteristics **(Guttentag, 2015)**. Understanding the determinants of Airbnb pricing is crucial for both hosts seeking to maximize revenue and travelers looking for cost-effective stays.\n",
    "\n",
    "Given the dynamic nature of Airbnb pricing, identifying the key factors that influence listing prices has been a focal point of research. Prior studies have investigated how aspects such as property characteristics, location, and host reputation contribute to price variations. However, price determinants may differ across cities due to unique market conditions and demand fluctuations. Thus, a more comprehensive analysis is needed to quantify these effects across different urban contexts.\n",
    "\n",
    "This study aims to analyze the factors that influence Airbnb prices across Berlin, London, and Paris. By leveraging publicly available Airbnb listing data, we examine the role of various attributes, including room type, guest satisfaction ratings, host status, and proximity to city landmarks. Previous research has shown that location and property attributes are key drivers of pricing **(Oskam & Boswijk, 2016)**, but this study seeks to further quantify their impact using regression-based modeling.\n",
    "\n",
    "Prior studies have also emphasized the importance of host-related attributes, such as Superhost status and guest review scores, in determining Airbnb listing prices **(Teubner, Hawlitschek, & Dann, 2017)**. A highly rated host can often command a higher price due to increased trust and perceived quality from potential guests.\n",
    "\n",
    "Beyond host characteristics, broader market factors also influence short-term rental pricing. Research suggests that urban tourism trends and local demand-supply dynamics play a significant role in price fluctuations, particularly during peak seasons and major events, when demand surges and hosts adjust prices accordingly **(Toader & Negrușa, 2021)**.\n",
    "\n",
    "Given these insights, it is evident that Airbnb pricing is influenced by both micro-level attributes (e.g., host reputation and property features) and macro-level market factors (e.g., tourism trends and seasonal demand fluctuations). However, most prior studies have focused on isolated factors, such as host-related attributes or location-based pricing, without integrating multiple key determinants into a unified predictive framework.\n",
    "\n",
    "To address this gap, this study aims to develop a comprehensive pricing prediction model that incorporates both property-specific features (e.g., room type, capacity, and cleanliness rating) and external market influences (e.g., demand fluctuations and urban attractiveness). By analyzing Airbnb listings across Berlin, London, and Paris, we seek to determine the most significant predictors of price and assess their relative impact.\n",
    "\n",
    "Thus, our central research question is:\n",
    "***\"What are the most significant factors that influence Airbnb listing prices in Berlin, London, and Paris?\"***\n",
    "\n",
    "\n",
    "By identifying these key pricing determinants, this study aims to provide practical insights for Airbnb hosts optimizing their pricing strategies, travelers making cost-effective booking decisions, and market analysts studying rental price trends.\n",
    "\n",
    "\n",
    "### **Dataset Description:**\n",
    "The dataset contains 19,165 listings from Berlin, London, and Paris with variables such as room type, location, guest satisfaction, and amenities. The key variables include:\n",
    "\n",
    "**realSum**: The price of the listing (target variable).\n",
    "    \n",
    "**room_type**: Type of accommodation (entire home, private room, shared room).\n",
    "    \n",
    "**person_capacity**: Maximum occupancy.\n",
    "    \n",
    "**host_is_superhost**: Whether the host is a superhost.\n",
    "    \n",
    "**cleanliness_rating, guest_satisfaction_overall**: Guest ratings.\n",
    "    \n",
    "**dist, metro_dist**: Distance to city center and metro station.\n",
    "    \n",
    "**attr_index, rest_index**: Tourism and restaurant scores.\n",
    "    \n",
    "**weekdays**: Whether the listing is available on a weekday (TRUE) or weekend (FALSE).\n",
    "    \n",
    "**city**: The city where the listing is located (Berlin, London, or Paris)."
   ]
  },
  {
   "cell_type": "code",
   "execution_count": 1,
   "id": "19c43c43-aa4e-4d84-ad00-8004d19da12e",
   "metadata": {
    "id": "19c43c43-aa4e-4d84-ad00-8004d19da12e",
    "outputId": "31cce354-9465-4eb4-ac1e-65ed1175c4f0",
    "vscode": {
     "languageId": "r"
    }
   },
   "outputs": [
    {
     "name": "stderr",
     "output_type": "stream",
     "text": [
      "\n",
      "Attaching package: ‘dplyr’\n",
      "\n",
      "\n"
     ]
    },
    {
     "name": "stderr",
     "output_type": "stream",
     "text": [
      "The following objects are masked from ‘package:stats’:\n",
      "\n",
      "    filter, lag\n",
      "\n",
      "\n"
     ]
    },
    {
     "name": "stderr",
     "output_type": "stream",
     "text": [
      "The following objects are masked from ‘package:base’:\n",
      "\n",
      "    intersect, setdiff, setequal, union\n",
      "\n",
      "\n"
     ]
    },
    {
     "ename": "ERROR",
     "evalue": "Error in library(car): there is no package called ‘car’\n",
     "output_type": "error",
     "traceback": [
      "Error in library(car): there is no package called ‘car’\nTraceback:\n",
      "1. stop(packageNotFoundError(package, lib.loc, sys.call()))"
     ]
    }
   ],
   "source": [
    "library(ggplot2)\n",
    "library(dplyr)\n",
    "library(car)\n",
    "library(corrplot)\n",
    "library(tidyr)\n",
    "library(cowplot)"
   ]
  },
  {
   "cell_type": "code",
   "execution_count": null,
   "id": "72a315f9-15ec-4177-8f4a-490fdb35b9c1",
   "metadata": {
    "id": "72a315f9-15ec-4177-8f4a-490fdb35b9c1",
    "vscode": {
     "languageId": "r"
    }
   },
   "outputs": [],
   "source": [
    "# Loading the dataset from the webpage\n",
    "berlin_weekdays = read.csv(\"https://zenodo.org/records/4446043/files/berlin_weekdays.csv\")\n",
    "berlin_weekends = read.csv(\"https://zenodo.org/records/4446043/files/berlin_weekends.csv\")\n",
    "london_weekdays = read.csv(\"https://zenodo.org/records/4446043/files/london_weekdays.csv\")\n",
    "london_weekends = read.csv(\"https://zenodo.org/records/4446043/files/london_weekends.csv\")\n",
    "paris_weekdays = read.csv(\"https://zenodo.org/records/4446043/files/paris_weekdays.csv\")\n",
    "paris_weekends = read.csv(\"https://zenodo.org/records/4446043/files/paris_weekends.csv\")"
   ]
  },
  {
   "cell_type": "code",
   "execution_count": null,
   "id": "2bf2b805-1b14-4e78-8cc4-1b2dbc879ecb",
   "metadata": {
    "id": "2bf2b805-1b14-4e78-8cc4-1b2dbc879ecb",
    "outputId": "8b1dcb12-d378-433a-f573-f1b66b40cb25",
    "vscode": {
     "languageId": "r"
    }
   },
   "outputs": [],
   "source": [
    "# Add 'weekdays' and 'city' columns\n",
    "berlin_weekdays <- berlin_weekdays %>% mutate(weekdays = TRUE, city = \"berlin\")\n",
    "berlin_weekends <- berlin_weekends %>% mutate(weekdays = FALSE, city = \"berlin\")\n",
    "\n",
    "london_weekdays <- london_weekdays %>% mutate(weekdays = TRUE, city = \"london\")\n",
    "london_weekends <- london_weekends %>% mutate(weekdays = FALSE, city = \"london\")\n",
    "\n",
    "paris_weekdays <- paris_weekdays %>% mutate(weekdays = TRUE, city = \"paris\")\n",
    "paris_weekends <- paris_weekends %>% mutate(weekdays = FALSE, city = \"paris\")\n",
    "\n",
    "# Combine all datasets\n",
    "airbnb <- bind_rows(berlin_weekdays, berlin_weekends,\n",
    "                    london_weekdays, london_weekends,\n",
    "                    paris_weekdays, paris_weekends)\n",
    "\n",
    "# Save the cleaned dataset\n",
    "# write.csv(airbnb, \"airbnb.csv\", row.names = FALSE)\n",
    "\n",
    "# Display first few rows to verify\n",
    "head(airbnb)"
   ]
  },
  {
   "cell_type": "markdown",
   "id": "a78828b1-f906-4930-8173-444dc32effba",
   "metadata": {
    "id": "a78828b1-f906-4930-8173-444dc32effba"
   },
   "source": [
    "**Table 1.** First few rows of Airbnb data."
   ]
  },
  {
   "cell_type": "code",
   "execution_count": null,
   "id": "c8617b9f-45b1-4385-9fac-9a557d2c3edb",
   "metadata": {
    "id": "c8617b9f-45b1-4385-9fac-9a557d2c3edb",
    "outputId": "d62cac5b-838c-40da-cf07-40de51470fad",
    "vscode": {
     "languageId": "r"
    }
   },
   "outputs": [],
   "source": [
    "# Convert categorical variables to factors\n",
    "airbnb$room_type <- as.factor(airbnb$room_type)\n",
    "airbnb$host_is_superhost <- as.factor(airbnb$host_is_superhost)\n",
    "airbnb$city <- as.factor(airbnb$city)\n",
    "airbnb$weekdays <- as.factor(airbnb$weekdays)\n",
    "\n",
    "# Check structure and missing values\n",
    "str(airbnb)\n",
    "cat(\"The number of missing values is:\", sum(is.na(airbnb)), \"\\n\")"
   ]
  },
  {
   "cell_type": "markdown",
   "id": "a96c8117-8755-48f4-9a21-ae0fe7ab4c6b",
   "metadata": {
    "id": "a96c8117-8755-48f4-9a21-ae0fe7ab4c6b"
   },
   "source": [
    "**Figure. 1.** Summary of the Airbnb dataset, variable types, sample values, missing data count."
   ]
  },
  {
   "cell_type": "code",
   "execution_count": null,
   "id": "32b08963-1eeb-42a4-a5f4-b8c8abe80057",
   "metadata": {
    "id": "32b08963-1eeb-42a4-a5f4-b8c8abe80057",
    "outputId": "b90ca01e-bb1d-4ad5-a6eb-ccb62969a50c",
    "vscode": {
     "languageId": "r"
    }
   },
   "outputs": [],
   "source": [
    "# Summary of the data\n",
    "summary(airbnb[, c(\"realSum\", \"person_capacity\", \"bedrooms\", \"dist\",\n",
    "                   \"metro_dist\", \"attr_index\", \"attr_index_norm\", \"rest_index\", \"rest_index_norm\")])"
   ]
  },
  {
   "cell_type": "markdown",
   "id": "6169b05f-cfac-4bdc-8c4f-33b662185212",
   "metadata": {
    "id": "6169b05f-cfac-4bdc-8c4f-33b662185212"
   },
   "source": [
    "**Table 2.** Summary statistics of selected numeric variables."
   ]
  },
  {
   "cell_type": "code",
   "execution_count": null,
   "id": "c96f03e9-7413-40c0-965a-656844a7ce45",
   "metadata": {
    "id": "c96f03e9-7413-40c0-965a-656844a7ce45",
    "outputId": "1c8e7e20-61d2-4013-9a46-b75efc609477",
    "vscode": {
     "languageId": "r"
    }
   },
   "outputs": [],
   "source": [
    "options(repr.plot.width = 15, repr.plot.height = 20)\n",
    "# List of selected numeric variables\n",
    "numeric_vars <- c(\"realSum\", \"person_capacity\", \"bedrooms\", \"dist\",\n",
    "                  \"metro_dist\", \"attr_index\", \"attr_index_norm\",\n",
    "                  \"rest_index\", \"rest_index_norm\")\n",
    "\n",
    "# Create an empty list to store plots\n",
    "plot_list <- list()\n",
    "\n",
    "# Loop through each variable and create a histogram\n",
    "for (var in numeric_vars) {\n",
    "  p <- ggplot(airbnb, aes_string(x = var)) +\n",
    "    geom_histogram(bins = 50, fill = \"blue\", color = \"black\") +\n",
    "    ggtitle(paste(\"Distribution of\", var)) +\n",
    "    xlab(var) + ylab(\"Count\") +\n",
    "    theme_minimal()\n",
    "\n",
    "  plot_list <- append(plot_list, list(p))}  # Store each plot in the list\n",
    "\n",
    "\n",
    "# Display plots in a 2-column layout using plot_grid()\n",
    "plot_grid(plotlist = plot_list, ncol = 2)"
   ]
  },
  {
   "cell_type": "markdown",
   "id": "6c16ff42-bebd-44d4-a7f5-cc314aa6fdbc",
   "metadata": {
    "id": "6c16ff42-bebd-44d4-a7f5-cc314aa6fdbc"
   },
   "source": [
    "**Figure. 2.** Distributions of predictor variables used in modeling Airbnb price."
   ]
  },
  {
   "cell_type": "code",
   "execution_count": null,
   "id": "d5d158fb-10b3-4cd6-8e0d-0a5d6961b509",
   "metadata": {
    "id": "d5d158fb-10b3-4cd6-8e0d-0a5d6961b509",
    "outputId": "724e0bf5-5097-4d50-ace3-4e098cbb8dfd",
    "vscode": {
     "languageId": "r"
    }
   },
   "outputs": [],
   "source": [
    "cor_matrix <- cor(airbnb[, c(\"realSum\", \"person_capacity\", \"bedrooms\", \"dist\", \"metro_dist\", \"attr_index\")])\n",
    "corrplot(cor_matrix, method = \"color\", tl.col = \"black\", tl.srt = 45)"
   ]
  },
  {
   "cell_type": "markdown",
   "id": "7bf082d8-a6bc-4c7b-81b8-bf04b8067e15",
   "metadata": {
    "id": "7bf082d8-a6bc-4c7b-81b8-bf04b8067e15"
   },
   "source": [
    "**Figure. 3.** Correlation matrix of predictor variables and price, with color indicating the strength and direction of relationships."
   ]
  },
  {
   "cell_type": "code",
   "execution_count": null,
   "id": "5061e18f-bba8-492e-aec2-ead435da1e0c",
   "metadata": {
    "id": "5061e18f-bba8-492e-aec2-ead435da1e0c",
    "outputId": "40ceb11c-70b5-4640-b1de-dcb0d6715547",
    "vscode": {
     "languageId": "r"
    }
   },
   "outputs": [],
   "source": [
    "# Run multiple linear regression including 'weekdays' and 'city'\n",
    "model <- lm(realSum ~ person_capacity + bedrooms + dist + metro_dist + attr_index_norm +\n",
    "              host_is_superhost + room_type + weekdays + city + rest_index_norm, data = airbnb)\n",
    "\n",
    "# Display summary\n",
    "summary(model)"
   ]
  },
  {
   "cell_type": "markdown",
   "id": "dd107dfa-6b3b-4cc4-80a8-306afc580673",
   "metadata": {
    "id": "dd107dfa-6b3b-4cc4-80a8-306afc580673"
   },
   "source": [
    "**Table 3.**  Linear regression results for Airbnb price as a function of listing characteristics"
   ]
  },
  {
   "cell_type": "code",
   "execution_count": null,
   "id": "fe220fe8-c33a-4e08-806b-86dd59908a5a",
   "metadata": {
    "id": "fe220fe8-c33a-4e08-806b-86dd59908a5a",
    "outputId": "73feb393-ff76-4794-fb73-97b54d372dbb",
    "vscode": {
     "languageId": "r"
    }
   },
   "outputs": [],
   "source": [
    "options(repr.plot.width = 10, repr.plot.height = 10)\n",
    "plot(model$residuals, main=\"Residuals Plot\", col=\"blue\", pch=20)\n",
    "abline(h=0, col=\"red\")\n",
    "\n",
    "# Check multicollinearity\n",
    "vif(model)"
   ]
  },
  {
   "cell_type": "markdown",
   "id": "17f67d89-e94a-4ff7-8432-0567bef48321",
   "metadata": {
    "id": "17f67d89-e94a-4ff7-8432-0567bef48321"
   },
   "source": [
    "**Figure. 4.** Residuals plot for the regression model, showing the distribution of errors around zero."
   ]
  },
  {
   "cell_type": "markdown",
   "id": "eaf043fe-e644-4492-bcb0-4bed715d891c",
   "metadata": {
    "id": "eaf043fe-e644-4492-bcb0-4bed715d891c"
   },
   "source": [
    "## **Discussion**\n",
    "\n",
    "Our analysis of Airbnb listings in Berlin, London, and Paris identified several key factors that influence pricing. We found that the number of bedrooms and guest capacity are among the strongest predictors of price, with larger accommodations commanding higher rates. Additionally, location plays a significant role, as listings near metro stations tend to have higher prices due to increased accessibility. The impact of being a superhost was positive but relatively minor compared to other factors. Surprisingly, while guest satisfaction ratings contribute to pricing, they do not appear to be as influential as property size and location.\n",
    "\n",
    "## **Key Findings**\n",
    "\n",
    "### *Strongest Predictors of Price*:\n",
    "\n",
    "**Person Capacity (+48.29 per additional person)**: Listings accommodating more guests tend to be more expensive.\n",
    "\n",
    "**Bedrooms (+143.87 per additional bedroom)**: More bedrooms significantly increase the price.\n",
    "\n",
    "**Tourism Attraction Index (+8.86 per unit increase)**: Higher attraction index leads to higher prices, confirming that locations with popular tourist attractions are more expensive.\n",
    "\n",
    "### *Location-Based Effects*:\n",
    "\n",
    "**Distance from the City Center (+9.73 per km)**: Surprisingly, prices increase slightly as the distance from the city center grows. This suggests that some high-end properties exist further from the city core, possibly in suburban or scenic locations.\n",
    "\n",
    "**Distance from Metro (-19.50 per km)**: Listings farther from metro stations are cheaper, showing that metro accessibility is a key pricing factor.\n",
    "\n",
    "### *Effect of Host & Room Type*:\n",
    "\n",
    "**Superhost Status (+25.78 for superhosts)**: Superhosts charge slightly higher prices, likely due to better reviews and perceived trustworthiness.\n",
    "\n",
    "### *Room Type*:\n",
    "\n",
    "**Private Rooms (-145.59)**: Private rooms are significantly cheaper than entire homes.\n",
    "\n",
    "**Shared Rooms (-249.30)**: The cheapest option, with prices much lower than entire homes.\n",
    "\n",
    "### *City-Based Price Differences*:\n",
    "\n",
    "**Paris (+86.64 compared to Berlin)** and **London(+75.57 compared to Berlin)** are significantly more expensive.\n",
    "The results confirm that Paris has the highest Airbnb prices, followed by London, while Berlin is the most affordable.\n",
    "\n",
    "**Weekdays vs. Weekends**:\n",
    "No significant difference (p = 0.654).\n",
    "Prices remain stable between weekdays and weekends, indicating consistent demand rather than peak pricing strategies.\n"
   ]
  },
  {
   "cell_type": "markdown",
   "id": "980440b5-952f-4ac2-914d-40cdff925474",
   "metadata": {
    "id": "980440b5-952f-4ac2-914d-40cdff925474"
   },
   "source": [
    "## **Expected vs. Unexpected Results**\n",
    "\n",
    "### **Expected:**\n",
    "\n",
    ">-Person capacity, bedrooms, and attraction index significantly influence price, as anticipated.\n",
    ">\n",
    ">-Superhosts charge higher prices, likely due to trust and better service.\n",
    ">\n",
    ">-Room type heavily affects pricing, with entire homes being the most expensive.\n",
    "\n",
    "### **Unexpected:**\n",
    "\n",
    ">-City center distance shows a positive relationship with price (instead of negative). This could mean luxury properties exist in suburban areas, or city centers have budget accommodations.\n",
    ">\n",
    ">-Weekday vs. weekend pricing is not significantly different. We expected weekend prices to be slightly higher, but the data suggests a steady demand throughout the week."
   ]
  },
  {
   "cell_type": "markdown",
   "id": "b25c4ac3-5c71-499a-b3bc-9f3212f5a85e",
   "metadata": {
    "id": "b25c4ac3-5c71-499a-b3bc-9f3212f5a85e"
   },
   "source": [
    "## **Model Performance & Validity**\n",
    "\n",
    "### **R-Squared**\n",
    ">-The model has R-squared of 0.24(with Adjusted R-squared of 0.2395), meaning that the model explains 24% of Airbnb price variation, meaning other factors like seasonal trends, demand fluctuations, or special events might also influence pricing.\n",
    "\n",
    "### **Variance Inflation Factor (VIF) Checks:**\n",
    "\n",
    ">-rest_index_norm (GVIF = 5.64) is the highest, meaning it might have moderate collinearity with other features.\n",
    ">\n",
    ">-dist (GVIF = 3.64) and city (GVIF = 5.38) are also relatively high.\n",
    ">\n",
    ">-While no extreme multicollinearity exists, some correlation between location-related variables could affect estimates."
   ]
  },
  {
   "cell_type": "markdown",
   "id": "a5f701ad-2fdb-4f36-a239-2076a556b0a3",
   "metadata": {
    "id": "a5f701ad-2fdb-4f36-a239-2076a556b0a3"
   },
   "source": [
    "## **Impact & Future Research**\n",
    "\n",
    "### **Business Impact:**\n",
    "Understanding these pricing factors can provide good insights for property owners and hosts looking to optimize their listings:\n",
    "\n",
    "-Property owners should focus on increasing guest capacity and bedrooms to maximize revenue.\n",
    "\n",
    "-Listings near metro stations can charge higher prices due to increased accessibility.\n",
    "\n",
    "-While being a superhost slightly boosts prices, it’s not a major pricing factor.\n",
    "\n",
    "### **Consumer Insights**\n",
    "These results also provide valuable insights for consumers, helping them make more informed decisions when booking Airbnbs:\n",
    "\n",
    "-Consumers can use these findings to assess whether a listing's price is reasonable based on key factors like location, room size, and amenities, avoiding overpriced listings.\n",
    "\n",
    "-They may adjust their booking strategies, such as selecting less central locations with good transit access, to get better deals while still maintaining convenience."
   ]
  },
  {
   "cell_type": "markdown",
   "id": "e43d36f2-c5db-4cfa-8b53-d75f28cd3ea3",
   "metadata": {},
   "source": [
    "### **Future Research Directions**  \n",
    "While this analysis provides valuable insights into Airbnb pricing, several areas warrant further investigation to refine and expand upon these findings.\n",
    "\n",
    "1. **Enhancing Model Performance**  \n",
    "   - The current model explains only a portion of the variation in listing prices. Future studies could explore more advanced modeling techniques, such as non-linear regression methods, tree-based models, or ensemble approaches, to improve predictive accuracy.  \n",
    "   - Incorporating additional features, such as review sentiment scores, booking frequency, or cancellation policies, may also enhance the model’s ability to capture key pricing drivers.\n",
    "\n",
    "2. **Exploring Seasonal and Event-Based Price Variations**  \n",
    "   - Seasonal trends, such as holiday periods and peak travel seasons, likely influence short-term rental prices. Analyzing how pricing fluctuates throughout the year could offer a deeper understanding of demand-driven adjustments.  \n",
    "   - Major events, including conferences, festivals, and sporting events, may create short-term price surges. Examining the extent of these effects across different cities could provide valuable insights for both hosts and policymakers.\n",
    "\n",
    "3. **Assessing Neighborhood-Level Demand Patterns**  \n",
    "   - Price variations are often shaped by local factors, such as proximity to tourist attractions, business districts, or public transportation hubs. A more granular spatial analysis could help identify high-demand areas and their characteristics.  \n",
    "   - Studying shifts in neighborhood popularity over time may also reveal emerging trends in the short-term rental market.\n",
    "\n",
    "4. **Understanding the Impact of Policy and Economic Conditions**  \n",
    "   - Government regulations on short-term rentals, such as caps on rental days or stricter licensing requirements, may have significant implications for pricing and market dynamics. Investigating policy interventions across different regions could shed light on their long-term effects.  \n",
    "   - Broader economic factors, including inflation rates, tourism activity, and local cost of living, may also play a role in shaping Airbnb pricing strategies. Future research could examine how these external influences interact with host-driven pricing decisions.\n",
    "\n",
    "5. **Comparing Consumer Preferences Across Markets**  \n",
    "   - Pricing strategies are often influenced by guest expectations and booking behaviors. A deeper analysis of guest reviews, satisfaction ratings, and preferred amenities across cities may provide insights into how consumer preferences shape listing prices.  \n",
    "   - Understanding why Paris consistently commands higher prices than Berlin or London could reveal cultural or market-driven differences that extend beyond property attributes alone."
   ]
  },
  {
   "cell_type": "markdown",
   "id": "9c2aaadd",
   "metadata": {
    "id": "9c2aaadd"
   },
   "source": [
    "## **References**\n",
    "Guttentag, D. (2015). Airbnb: Disruptive Innovation and the Rise of an Informal Tourism Accommodation Sector. Current Issues in Tourism, 18(12), 1192-1217. https://www.researchgate.net/publication/271624904_Airbnb_Disruptive_Innovation_and_the_Rise_of_an_Informal_Tourism_Accommodation_Sector\n",
    "\n",
    "Oskam, J., & Boswijk, A. (2016). Airbnb: The Future of Networked Hospitality Businesses. Journal of Tourism Futures, 2(1), 22-42. https://www.researchgate.net/publication/298305479_Airbnb_The_Future_of_Networked_Hospitality_Businesses\n",
    "\n",
    "Teubner, T., Hawlitschek, F., & Dann, D. (2017). Price Determinants on Airbnb: How Reputation Pays Off in the Sharing Economy. Journal of Self-Governance and Management Economics, 5(4), 53-80. https://www.researchgate.net/publication/315838775_Price_Determinants_on_Airbnb_How_Reputation_Pays_Off_in_the_Sharing_Economy\n",
    "\n",
    "Toader, V., & Negrușa, A. L. (2021). Analysis of Price Determinants in the Case of Airbnb Listings. Economic Research-Ekonomska Istraživanja, 34(1), 123-139. https://www.tandfonline.com/doi/full/10.1080/1331677X.2021.1962380\n",
    "\n",
    "Alharbi, Z. H. (2023). A Sustainable Price Prediction Model for Airbnb Listings Using Machine Learning and Sentiment Analysis. Sustainability, 15(17), 13159. https://doi.org/10.3390/su151713159\n",
    "\n",
    "Gyódi, K., & Nawaro, Ł. (2021). Determinants of Airbnb prices in European cities: A spatial econometrics approach (Supplementary Material) [Data set]. Zenodo. https://doi.org/10.5281/zenodo.4446043\n",
    "\n",
    "Pittala, T. S. S. R., Meleti, U. M. R., & Vasireddy, H. (2024). Unveiling patterns in European Airbnb prices: A comprehensive analytical study using machine learning techniques. arXiv. https://arxiv.org/abs/2407.01555\n",
    "\n",
    "TheDevastator. (n.d.). Airbnb prices in European cities. Kaggle. https://www.kaggle.com/datasets/thedevastator/airbnb-prices-in-european-cities/data\n",
    "\n"
   ]
  }
 ],
 "metadata": {
  "colab": {
   "provenance": []
  },
  "kernelspec": {
   "display_name": "R",
   "language": "R",
   "name": "ir"
  },
  "language_info": {
   "codemirror_mode": "r",
   "file_extension": ".r",
   "mimetype": "text/x-r-source",
   "name": "R",
   "pygments_lexer": "r",
   "version": "4.4.2"
  }
 },
 "nbformat": 4,
 "nbformat_minor": 5
}